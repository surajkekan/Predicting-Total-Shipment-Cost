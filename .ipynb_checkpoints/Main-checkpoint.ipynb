{
 "cells": [
  {
   "cell_type": "code",
   "id": "initial_id",
   "metadata": {
    "collapsed": true,
    "jupyter": {
     "is_executing": true
    },
    "ExecuteTime": {
     "start_time": "2025-10-25T08:01:10.913093Z"
    }
   },
   "source": [
    "import pandas as pd\n",
    "import numpy as np\n",
    "import xgboost as xgb\n",
    "from sklearn.model_selection import train_test_split, cross_val_score, KFold\n",
    "from sklearn.preprocessing import StandardScaler, OneHotEncoder\n",
    "from sklearn.compose import ColumnTransformer\n",
    "from sklearn.pipeline import Pipeline\n",
    "from sklearn.impute import SimpleImputer\n",
    "from sklearn.metrics import mean_squared_error, mean_absolute_percentage_error\n",
    "import shap\n",
    "import matplotlib.pyplot as plt\n",
    "import seaborn as sns"
   ],
   "outputs": [],
   "execution_count": null
  },
  {
   "metadata": {},
   "cell_type": "code",
   "outputs": [],
   "execution_count": null,
   "source": [
    "# --- 1. DATA LOADING AND INITIAL CLEANING ---\n",
    "\n",
    "# NOTE: Replace 'my_logistics_data.csv' with the actual path to your file.\n",
    "try:\n",
    "    df = pd.read_csv('my_logistics_data.csv')\n",
    "except FileNotFoundError:\n",
    "    print(\"--- ⚠️ WARNING: Using Dummy Data ---\")\n",
    "    # Create dummy data structure matching the provided columns for demonstration\n",
    "    data = {\n",
    "        'ID': range(100),\n",
    "        'Country': np.random.choice(['USA', 'INDIA', 'GERMANY', 'CHINA'], 100),\n",
    "        'Shipment Mode': np.random.choice(['Air', 'Ocean', 'Road', 'Air', 'Ocean'], 100),\n",
    "        'Line Item Quantity': np.random.randint(10, 500, 100),\n",
    "        'Line Item Value': np.random.uniform(500, 5000, 100),\n",
    "        'Freight Cost (USD)': np.random.uniform(50, 1500, 100),\n",
    "        'Line Item Insurance (USD)': np.random.uniform(10, 150, 100),\n",
    "        'Weight (Kilograms)': [str(w) for w in np.random.uniform(10, 1000, 100)],\n",
    "        'Vendor': np.random.choice([f'Vendor_{i}' for i in range(10)], 100),\n",
    "        'Manufacturing Site': np.random.choice([f'Site_{i}' for i in range(5)], 100),\n",
    "        'Pack Price': np.random.uniform(5, 50, 100),\n",
    "        'Unit Price': np.random.uniform(1, 10, 100),\n",
    "        # Add some NaN values to simulate real-world data issues\n",
    "        'Freight Cost (USD)': [np.nan if i % 10 == 0 else x for i, x in enumerate(np.random.uniform(50, 1500, 100))]\n",
    "    }\n",
    "    df = pd.DataFrame(data)\n"
   ],
   "id": "47b5937ae281579"
  },
  {
   "metadata": {},
   "cell_type": "markdown",
   "source": "",
   "id": "c45a8ecb8c0c3ac7"
  }
 ],
 "metadata": {
  "kernelspec": {
   "display_name": "Python 3",
   "language": "python",
   "name": "python3"
  },
  "language_info": {
   "codemirror_mode": {
    "name": "ipython",
    "version": 2
   },
   "file_extension": ".py",
   "mimetype": "text/x-python",
   "name": "python",
   "nbconvert_exporter": "python",
   "pygments_lexer": "ipython2",
   "version": "2.7.6"
  }
 },
 "nbformat": 4,
 "nbformat_minor": 5
}
